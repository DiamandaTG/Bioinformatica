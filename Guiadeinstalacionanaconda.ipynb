{
 "cells": [
  {
   "cell_type": "markdown",
   "metadata": {},
   "source": [
    "# <center>**Conociendo Anaconda**\n",
    "\n",
    "\n",
    "<center><img src=\"img/anaconda0.png\"/ width = 35%></center> \n",
    "\n",
    "<div style=\"text-align: right\"> Por: _Diamanda Tapia_  </div>"
   ]
  },
  {
   "cell_type": "markdown",
   "metadata": {},
   "source": [
    "   ### Anaconda es el ecosistema de ciencia de datos mas popular en el mundo, innovando en el desarrollo en proyectos de codigo abierto que son el fundamento de la ciencia moderna.\n",
    "\n",
    "----------------------------------------------------------------------------------------------------------------------"
   ]
  },
  {
   "cell_type": "markdown",
   "metadata": {},
   "source": [
    "\n",
    "## <center>***Guía de Instalación***</center> \n",
    "\n",
    "* _Búsqueda de software_\n",
    "* Selección de software\n",
    "* Ejecución de instalador\n",
    "* Proceso de instalación\n",
    "* Abrir navegador\n",
    "* Seleccionar programa de interés"
   ]
  },
  {
   "cell_type": "markdown",
   "metadata": {},
   "source": [
    "## 1. Búsqueda de software\n",
    "### <center> Ingresar desde tu navegador a la pagina oficial _https://www.continuum.io/downloads_"
   ]
  },
  {
   "cell_type": "markdown",
   "metadata": {},
   "source": [
    
    "|                                                                                                                   |\n",
    "|-------------------------------------------|-----------------------------------------------------------------------|\n",
    "|<img src=\"img/anaconda.png\"/ width = 2000px>| <img src=\"img/anaconda00.png\"/ width = 2000px>                         | \n",
    "|\n",
    "\n",
    "\n"
   ]
  },
  {
   "cell_type": "markdown",
   "metadata": {},
   "source": [
    "<Al ingresar a la pagina seleccionar la version de interes apara su ordenador>"
   ]
  },
  {
   "cell_type": "markdown",
   "metadata": {},
   "source": [
    "## 2. Selección de software\n",
    "\n",
    " ####  Al ingresar a la página seleccionar su versión de interés de acuerdo a las características del ordenador \n",
    "\n",
    "####  Se recomienda la instalación de la versión más reciente debido a características mejoradas"
   ]
  },
  {
   "cell_type": "markdown",
   "metadata": {},
   "source": [
    "\n",
    "|                                                                                                                   |\n",
    "|-------------------------------------------|-----------------------------------------------------------------------|\n",
    "|<img src=\"img/anaconda2.png\"/ width = 2000px>| <img src=\"img/anaconda3.png\"/ width = 1500px>                         | \n",
    "|\n",
    "\n",
    "\n"
   ]
  },
  {
   "cell_type": "markdown",
   "metadata": {},
   "source": [
    "## 3. Ejecución de instalador"
   ]
  },
  {
   "cell_type": "markdown",
   "metadata": {},
   "source": [
    "<center><img src=\"img/anaconda5.png\"/ width = 70%> <center>"
   ]
  },
  {
   "cell_type": "markdown",
   "metadata": {
    "collapsed": true
   },
   "source": [
    "##  4.Proceso de instalación\n",
    "\n",
    "|                                                                                                                    |   \n",
    "|-------------------------------------------|------------------------------------------------------------------------|\n",
    "| <img src=\"img/anaconda5.png\"/ width = 200%>| <img src=\"img/anaconda6.png\"/ width = 200%>| \n",
    "|\n",
    "|<img src=\"img/anaconda7.png\"/ width = 200%>|<img src=\"img/anaconda8.png\"/ width = 100%>\n",
    "|\n",
    "|<img src=\"img/anaconda9.png\"/ width = 200%>|<img src=\"img/anaconda10.png\"/ width = 100%>\n",
    "|\n",
    "|<img src=\"img/anaconda11.png\"/ width =200%>|<img src=\"img/anaconda12.png\"/ width = 100%>\n",
    "\n",
    "\n",
    "\t\n",
    "\t\n",
    "\n"
   ]
  },
  {
   "cell_type": "markdown",
   "metadata": {},
   "source": [
    "## 5. Abrir navegador\n",
    "\n",
    "#### Cerrar ventana de culminación de instalación\n",
    "  "
   ]
  },
  {
   "cell_type": "markdown",
   "metadata": {},
   "source": [
    "|                                                                                                                   |\n",
    "|-------------------------------------------|-----------------------------------------------------------------------|\n",
    "|<img src=\"img/anaconda14.png\"/ width = 2000px>| <img src=\"img/anaconda15.png\"/ width = 1500px>                         | \n",
    "|\n"
   ]
  },
  {
   "cell_type": "markdown",
   "metadata": {},
   "source": [
    "## 6. Seleccionar programa de interés\n",
    "\n",
    "### _Ejemplo_"
   ]
  },
  {
   "cell_type": "markdown",
   "metadata": {},
   "source": [
    "<center><img src=\"img/anaconda16.png\"/ width = 40%> <center>"
   ]
  },
  {
   "cell_type": "markdown",
   "metadata": {},
   "source": [
    "# ¡Listo para navegar !"
   ]
  },
  {
   "cell_type": "markdown",
   "metadata": {},
   "source": [
    "##### Mostrará una serie de pasos para su posterior instalación"
   ]
  },
  {
   "cell_type": "code",
   "execution_count": null,
   "metadata": {
    "collapsed": true
   },
   "outputs": [],
   "source": []
  }
 ],
 "metadata": {
  "kernelspec": {
   "display_name": "Python 3",
   "language": "python",
   "name": "python3"
  },
  "language_info": {
   "codemirror_mode": {
    "name": "ipython",
    "version": 3
   },
   "file_extension": ".py",
   "mimetype": "text/x-python",
   "name": "python",
   "nbconvert_exporter": "python",
   "pygments_lexer": "ipython3",
   "version": "3.6.1"
  }
 },
 "nbformat": 4,
 "nbformat_minor": 2
}
